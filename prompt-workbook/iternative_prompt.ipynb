{
 "cells": [
  {
   "cell_type": "markdown",
   "id": "4527deae-80ad-471b-8918-068be4d0acef",
   "metadata": {},
   "source": [
    "# Iterative Prompt Development"
   ]
  },
  {
   "cell_type": "markdown",
   "id": "97dc1703",
   "metadata": {},
   "source": [
    "![Prompt guidelines](prompt-guidelines.PNG)"
   ]
  },
  {
   "cell_type": "markdown",
   "id": "6ca88c47",
   "metadata": {},
   "source": [
    "## Setup"
   ]
  },
  {
   "cell_type": "code",
   "execution_count": 1,
   "id": "94199fb4",
   "metadata": {},
   "outputs": [],
   "source": [
    "import openai\n",
    "import os\n",
    "from IPython.display import display, HTML\n",
    "\n",
    "from dotenv import load_dotenv, find_dotenv\n",
    "_ = load_dotenv(find_dotenv()) # read local .env file\n",
    "\n",
    "openai.api_key  = os.getenv('OPENAI_API_KEY')"
   ]
  },
  {
   "cell_type": "code",
   "execution_count": 2,
   "id": "05597d72",
   "metadata": {},
   "outputs": [],
   "source": [
    "def get_completion(prompt, model=\"gpt-3.5-turbo\"):\n",
    "    messages = [{\"role\": \"user\", \"content\": prompt}]\n",
    "    response = openai.ChatCompletion.create(\n",
    "        model=model,\n",
    "        messages=messages,\n",
    "        temperature=0, # this is the degree of randomness of the model's output\n",
    "    )\n",
    "    return response.choices[0].message[\"content\"]"
   ]
  },
  {
   "cell_type": "markdown",
   "id": "c897ba7f",
   "metadata": {},
   "source": [
    "## Generate a marketing product description from a product fact sheet"
   ]
  },
  {
   "cell_type": "code",
   "execution_count": 3,
   "id": "8269fa91",
   "metadata": {},
   "outputs": [],
   "source": [
    "fact_sheet = f\"\"\"\n",
    "- Loa Kéo Karaoke Bluetooth BINTECH, 2 Mic, Bass Mạnh, Âm Thanh Vòm Sống Động, Công Suất Lớn, Bảo Hành 6 Tháng\n",
    "- Loa kéo karaoke bluetooth boombass công suất lớn thân được bọc da, kim loại cao cấp.\n",
    "- Thiết kế chắc chắn, tỉ mỉ đến từng chi tiết.\n",
    "- Loa chắc chắn, phù hợp trang trí decor nhà cửa, mang đi pic nic ngoài trời.\n",
    "- Loa kéo karaoke bluetooth boombass công suất lớn với 2 MICRO KHÔNG DÂY kết nối với điện thoại\n",
    "qua Bluetooth với phạm vi lên tới 10m, bạn có thể thoải mái nghe nhạc, ca hát\n",
    "mà không lo vướng víu hoặc sự cản trở của dây \n",
    "- Đáp ứng cho nhiều nhu cầu: giải trí (nghe nhạc + ca hát) \n",
    "- Loa bluetooth karaoke công suất lớn phù hợp cho gia đình, buổi tiệc, dã ngoại\n",
    "- Có nhiều chức năng: Nghe nhạc, MICRO ca hát, Cắm USB, cắm thẻ nhớ, đài FM.\n",
    "- Thân Loa tích hợp các phím chức năng như Volume, mode... chỉnh lớn nhỏ, nút\n",
    "ngừng và qua bài.\n",
    "- Thân Mic có chức năng  tăng ECHO, có thể cắm sạc trực tiếp\n",
    "- Công suất thực của loa lên tới 60w\n",
    "- Loa kéo karaoke bluetooth boombass công suất lớn có âm thanh sống động, lớn, bass trầm ấm\n",
    "trải nghiệm âm thanh vô cùng tuyệt vời\n",
    "- 2 MIC KARAOKE tặng kèm với khả năng thu âm nhạy, kết nối xa lên tới 10m, không bị\n",
    "rè, màng lọc âm có khả năng loại bỏ tạp âm tốt\n",
    "\n",
    "\n",
    "THÔNG SỐ:\n",
    "-Kết nối qua BLUETOOTH phạm vi 10m\n",
    "-Sạc: 2h\n",
    "-Pin dung: 6-8h\n",
    "-Bộ sp: 1 Loa + 2 Micro không dây + 1 dây sạc\n",
    "Bảo hành 6 tháng, 1 đổi 1 với lỗi nhà sản xuất\n",
    "(Sản phẩm TẶNG KÈM không áp dụng Bảo hành)\n",
    "-Miễn phí vận chuyển trên toàn quốc cho đơn hàng từ 300k. \n",
    "\"\"\"\n"
   ]
  },
  {
   "cell_type": "code",
   "execution_count": 4,
   "id": "ceccc016",
   "metadata": {},
   "outputs": [
    {
     "name": "stdout",
     "output_type": "stream",
     "text": [
      "<div>\n",
      "  <h2>Mô tả sản phẩm</h2>\n",
      "  <p>Loa Kéo Karaoke Bluetooth BINTECH là một sản phẩm hoàn hảo cho khách hàng bán lẻ và hộ gia đình quan tâm đến chức năng giải trí và thiết kế gọn nhẹ. Với công suất lớn và âm thanh sống động, loa kéo karaoke này sẽ mang đến cho bạn những trải nghiệm âm nhạc và ca hát tuyệt vời.</p>\n",
      "  <p>Thiết kế chắc chắn và tỉ mỉ đến từng chi tiết, loa kéo karaoke này không chỉ có khả năng trang trí decor nhà cửa mà còn rất thuận tiện để mang đi picnic ngoài trời. Với 2 MICRO KHÔNG DÂY kết nối qua Bluetooth với phạm vi lên tới 10m, bạn có thể thoải mái nghe nhạc và ca hát mà không lo vướng víu hoặc sự cản trở của dây.</p>\n",
      "  <p>Loa kéo karaoke Bluetooth BINTECH cung cấp nhiều chức năng như nghe nhạc, ca hát, cắm USB, cắm thẻ nhớ và đài FM. Thân loa tích hợp các phím chức năng như Volume, mode... để bạn có thể dễ dàng điều chỉnh âm lượng và chế độ nghe nhạc. Thân Mic có chức năng tăng ECHO và có thể cắm sạc trực tiếp.</p>\n",
      "  <p>Với công suất thực lên tới 60W, loa kéo karaoke Bluetooth BINTECH mang đến âm thanh sống động, lớn và bass trầm ấm. Bạn cũng sẽ được tặng kèm 2 MIC KARAOKE với khả năng thu âm nhạy, kết nối xa lên tới 10m và màng lọc âm tốt để loại bỏ tạp âm.</p>\n",
      "</div>\n",
      "\n",
      "<div>\n",
      "  <h2>Thông số sản phẩm</h2>\n",
      "  <table>\n",
      "    <tr>\n",
      "      <th>Tên thông số</th>\n",
      "      <th>Giá trị thông số</th>\n",
      "    </tr>\n",
      "    <tr>\n",
      "      <td>Kết nối qua BLUETOOTH</td>\n",
      "      <td>Phạm vi 10m</td>\n",
      "    </tr>\n",
      "    <tr>\n",
      "      <td>Sạc</td>\n",
      "      <td>2h</td>\n",
      "    </tr>\n",
      "    <tr>\n",
      "      <td>Pin dung</td>\n",
      "      <td>6-8h</td>\n",
      "    </tr>\n",
      "    <tr>\n",
      "      <td>Bộ sp</td>\n",
      "      <td>1 Loa + 2 Micro không dây + 1 dây sạc</td>\n",
      "    </tr>\n",
      "    <tr>\n",
      "      <td>Bảo hành</td>\n",
      "      <td>6 tháng, 1 đổi 1 với lỗi nhà sản xuất</td>\n",
      "    </tr>\n",
      "    <tr>\n",
      "      <td>Miễn phí vận chuyển</td>\n",
      "      <td>Trên toàn quốc cho đơn hàng từ 300k</td>\n",
      "    </tr>\n",
      "  </table>\n",
      "</div>\n"
     ]
    }
   ],
   "source": [
    "prompt = f\"\"\"\n",
    "Công việc của bạn là giúp team marketing tạo mô tả sản phẩm \n",
    "cho trang web bán lẻ dựa vào mô tả kỹ thuật.\n",
    "\n",
    "Viết một bài mô tả sản phẩm dựa trên thông tin được cung cấp \n",
    "trong mô tả kỹ thuật của sản phẩm được phân định bởi dấu triple backticks.\n",
    "\n",
    "Bảng mô tả này được sử dụng cho khách hàng bán lẻ, hộ gia đình, \n",
    "quan tâm nhiều đến chức năng giải trí và thiết kế gọn nhẹ của sản phẩm.\n",
    "Phần mô tả nên được viết ngắn gọn, chú trọng vào điểm khách hàng quan tâm, các ý không trùng lặp.\n",
    "\n",
    "Sau phần mô tả, thêm một bảng mô tả thông số cuối cùng. Bảng có 2 cột. \n",
    "Cột 1 mô tả tên thông số, cột 2 mô tả giá trị thông số. \n",
    "\n",
    "Đặt tên bảng là 'Thông số sản phẩm'.\n",
    "\n",
    "Format thông tin dưới dạng HTML để sử dụng cho website.\n",
    "Đặt bảng mô tả này trong thẻ <div>.\n",
    "\n",
    "\n",
    "Mô tả kỹ thuật: ```{fact_sheet}```\n",
    "\"\"\"\n",
    "\n",
    "response = get_completion(prompt)\n",
    "print(response)"
   ]
  },
  {
   "cell_type": "code",
   "execution_count": 5,
   "id": "7798d995-ac7d-4923-b774-9382742cc496",
   "metadata": {},
   "outputs": [
    {
     "data": {
      "text/html": [
       "<div>\n",
       "  <h2>Mô tả sản phẩm</h2>\n",
       "  <p>Loa Kéo Karaoke Bluetooth BINTECH là một sản phẩm hoàn hảo cho khách hàng bán lẻ và hộ gia đình quan tâm đến chức năng giải trí và thiết kế gọn nhẹ. Với công suất lớn và âm thanh sống động, loa kéo karaoke này sẽ mang đến cho bạn những trải nghiệm âm nhạc và ca hát tuyệt vời.</p>\n",
       "  <p>Thiết kế chắc chắn và tỉ mỉ đến từng chi tiết, loa kéo karaoke này không chỉ có khả năng trang trí decor nhà cửa mà còn rất thuận tiện để mang đi picnic ngoài trời. Với 2 MICRO KHÔNG DÂY kết nối qua Bluetooth với phạm vi lên tới 10m, bạn có thể thoải mái nghe nhạc và ca hát mà không lo vướng víu hoặc sự cản trở của dây.</p>\n",
       "  <p>Loa kéo karaoke Bluetooth BINTECH cung cấp nhiều chức năng như nghe nhạc, ca hát, cắm USB, cắm thẻ nhớ và đài FM. Thân loa tích hợp các phím chức năng như Volume, mode... để bạn có thể dễ dàng điều chỉnh âm lượng và chế độ nghe nhạc. Thân Mic có chức năng tăng ECHO và có thể cắm sạc trực tiếp.</p>\n",
       "  <p>Với công suất thực lên tới 60W, loa kéo karaoke Bluetooth BINTECH mang đến âm thanh sống động, lớn và bass trầm ấm. Bạn cũng sẽ được tặng kèm 2 MIC KARAOKE với khả năng thu âm nhạy, kết nối xa lên tới 10m và màng lọc âm tốt để loại bỏ tạp âm.</p>\n",
       "</div>\n",
       "\n",
       "<div>\n",
       "  <h2>Thông số sản phẩm</h2>\n",
       "  <table>\n",
       "    <tr>\n",
       "      <th>Tên thông số</th>\n",
       "      <th>Giá trị thông số</th>\n",
       "    </tr>\n",
       "    <tr>\n",
       "      <td>Kết nối qua BLUETOOTH</td>\n",
       "      <td>Phạm vi 10m</td>\n",
       "    </tr>\n",
       "    <tr>\n",
       "      <td>Sạc</td>\n",
       "      <td>2h</td>\n",
       "    </tr>\n",
       "    <tr>\n",
       "      <td>Pin dung</td>\n",
       "      <td>6-8h</td>\n",
       "    </tr>\n",
       "    <tr>\n",
       "      <td>Bộ sp</td>\n",
       "      <td>1 Loa + 2 Micro không dây + 1 dây sạc</td>\n",
       "    </tr>\n",
       "    <tr>\n",
       "      <td>Bảo hành</td>\n",
       "      <td>6 tháng, 1 đổi 1 với lỗi nhà sản xuất</td>\n",
       "    </tr>\n",
       "    <tr>\n",
       "      <td>Miễn phí vận chuyển</td>\n",
       "      <td>Trên toàn quốc cho đơn hàng từ 300k</td>\n",
       "    </tr>\n",
       "  </table>\n",
       "</div>"
      ],
      "text/plain": [
       "<IPython.core.display.HTML object>"
      ]
     },
     "metadata": {},
     "output_type": "display_data"
    }
   ],
   "source": [
    "display(HTML(response))"
   ]
  }
 ],
 "metadata": {
  "kernelspec": {
   "display_name": "Python 3 (ipykernel)",
   "language": "python",
   "name": "python3"
  },
  "language_info": {
   "codemirror_mode": {
    "name": "ipython",
    "version": 3
   },
   "file_extension": ".py",
   "mimetype": "text/x-python",
   "name": "python",
   "nbconvert_exporter": "python",
   "pygments_lexer": "ipython3",
   "version": "3.10.12"
  }
 },
 "nbformat": 4,
 "nbformat_minor": 5
}
