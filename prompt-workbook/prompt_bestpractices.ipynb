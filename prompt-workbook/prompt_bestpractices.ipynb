{
 "cells": [
  {
   "cell_type": "markdown",
   "id": "f791fbd4-9add-445d-818e-952af48f440e",
   "metadata": {},
   "source": [
    "# Prompt best practices"
   ]
  },
  {
   "cell_type": "markdown",
   "id": "65393450",
   "metadata": {},
   "source": [
    "Prompting principles to write effective prompts for LLMs."
   ]
  },
  {
   "cell_type": "markdown",
   "id": "45a1accd-f0ea-4144-87c1-705e9fe6cc85",
   "metadata": {},
   "source": [
    "## Setup"
   ]
  },
  {
   "cell_type": "code",
   "execution_count": null,
   "id": "f75afbee-a159-4d50-9c1d-0f5254cac7cb",
   "metadata": {},
   "outputs": [],
   "source": [
    "# !pip install openai\n",
    "# !pip install python-dotenv\n",
    "# !pip install panel"
   ]
  },
  {
   "cell_type": "code",
   "execution_count": 1,
   "id": "7ab2ddeb-5b6e-475e-9631-18357272a29e",
   "metadata": {},
   "outputs": [],
   "source": [
    "import os\n",
    "import openai\n",
    "\n",
    "from dotenv import load_dotenv, find_dotenv\n",
    "_ = load_dotenv(find_dotenv())\n",
    "\n",
    "openai.api_key = os.environ['OPENAI_API_KEY']"
   ]
  },
  {
   "cell_type": "code",
   "execution_count": 2,
   "id": "5c31b483-3940-440d-bce8-e032bc11055b",
   "metadata": {},
   "outputs": [],
   "source": [
    "DEFAULT_MODEL = \"gpt-3.5-turbo\"\n",
    "SYSTEM_ROLE = \"system\"\n",
    "USER_ROLE = \"user\"\n",
    "ASSISTANT_ROLE = \"assistant\""
   ]
  },
  {
   "cell_type": "markdown",
   "id": "4cbcd591-50de-4063-a1cc-f8255fa129c9",
   "metadata": {},
   "source": [
    "## Utils"
   ]
  },
  {
   "cell_type": "markdown",
   "id": "038d5203",
   "metadata": {},
   "source": [
    "We will use OpenAI's `gpt-3.5-turbo` model and the [chat completions endpoint](https://platform.openai.com/docs/guides/gpt/chat-completions-api)."
   ]
  },
  {
   "cell_type": "code",
   "execution_count": 4,
   "id": "4a562865-5f54-4758-8a1a-447c404a465c",
   "metadata": {},
   "outputs": [],
   "source": [
    "def get_completion(prompt, model=DEFAULT_MODEL, temperature=0):\n",
    "    messages = [{\"role\": \"user\", \"content\": prompt}]\n",
    "    response = openai.ChatCompletion.create(\n",
    "        model = model,\n",
    "        messages = messages,\n",
    "        temperature = temperature, # degree of randomness of the model's output\n",
    "    )\n",
    "    return response.choices[0].message[\"content\"]"
   ]
  },
  {
   "cell_type": "markdown",
   "id": "0788f35c-cb95-4e7d-acf7-f19f3850f417",
   "metadata": {},
   "source": [
    "## Prompting Principles\n",
    "- **Principle 1: Write clear and specific instructions**\n",
    "- **Principle 2: Give the model time to “think”**"
   ]
  },
  {
   "cell_type": "markdown",
   "id": "c61d6427",
   "metadata": {},
   "source": [
    "#### Use delimiters to clearly indicate distinct parts of the input\n",
    "- To avoid a prompt injection\n",
    "- Delimiters can be anything like: ``` (triple backticks), \"\"\" (triple quotes), --- (triple dahses), < > (andle brackets), `<tag> </tag>` (XML tags), ..."
   ]
  },
  {
   "cell_type": "markdown",
   "id": "5606b133",
   "metadata": {},
   "source": [
    "*Prompt injection examples*"
   ]
  },
  {
   "cell_type": "markdown",
   "id": "ffc73b1a",
   "metadata": {},
   "source": [
    "![Prompt delimiters example](prompt-delimiters.png)"
   ]
  },
  {
   "cell_type": "markdown",
   "id": "d4e6ec32",
   "metadata": {},
   "source": [
    "![Prompt injection example](prompt-injection-1.PNG)"
   ]
  },
  {
   "cell_type": "markdown",
   "id": "7eaf58de",
   "metadata": {},
   "source": [
    "![Prompt injection solved](prompt-injection-solved.PNG)"
   ]
  },
  {
   "cell_type": "code",
   "execution_count": 6,
   "id": "111771a4",
   "metadata": {},
   "outputs": [
    {
     "name": "stdout",
     "output_type": "stream",
     "text": [
      "Please explain how Transformer Architecture works.\n"
     ]
    }
   ],
   "source": [
    "text = f\"\"\"\n",
    "Please explain how Trasformer Architecture work\n",
    "\"\"\"\n",
    "prompt = f\"\"\"\n",
    "Please proofread and correct the text delimited by triple backticks and rewrite the corrected version. \\\n",
    "Do not write any explanation.\n",
    "```{text}```\n",
    "\"\"\"\n",
    "\n",
    "response = get_completion(prompt)\n",
    "print(response)"
   ]
  },
  {
   "cell_type": "markdown",
   "id": "d70a1aa7",
   "metadata": {},
   "source": [
    "### Ask for a structured output (JSON, HTML,...)"
   ]
  },
  {
   "cell_type": "code",
   "execution_count": null,
   "id": "1c4bebc0",
   "metadata": {},
   "outputs": [],
   "source": [
    "prompt = f\"\"\"\n",
    "Generate a list of three made-up book titles along \\\n",
    "with their authors and genres.\n",
    "Provide them in JSON format with the following keys:\n",
    "book_id, title, author, genre\n",
    "\"\"\"\n",
    "response = get_completion(prompt)"
   ]
  },
  {
   "cell_type": "code",
   "execution_count": 8,
   "id": "dee89640-1f90-4a0b-bf57-e1aae7eff426",
   "metadata": {},
   "outputs": [
    {
     "name": "stdout",
     "output_type": "stream",
     "text": [
      "{\n",
      "  \"books\": [\n",
      "    {\n",
      "      \"book_id\": 1,\n",
      "      \"title\": \"The Enigma of Elysium\",\n",
      "      \"author\": \"Aria Nightshade\",\n",
      "      \"genre\": \"Fantasy\"\n",
      "    },\n",
      "    {\n",
      "      \"book_id\": 2,\n",
      "      \"title\": \"Whispers in the Shadows\",\n",
      "      \"author\": \"Evelyn Blackwood\",\n",
      "      \"genre\": \"Mystery\"\n",
      "    },\n",
      "    {\n",
      "      \"book_id\": 3,\n",
      "      \"title\": \"Beyond the Veil\",\n",
      "      \"author\": \"Lucas Stormrider\",\n",
      "      \"genre\": \"Science Fiction\"\n",
      "    }\n",
      "  ]\n",
      "}\n"
     ]
    }
   ],
   "source": [
    "print(response)"
   ]
  },
  {
   "cell_type": "markdown",
   "id": "9f8ced72",
   "metadata": {},
   "source": [
    "### Ask the model to check whether conditions are sactisfied"
   ]
  },
  {
   "cell_type": "markdown",
   "id": "f417e9b3",
   "metadata": {},
   "source": [
    "Example 1: Make a cup of coffee. Add `stop shot` "
   ]
  },
  {
   "cell_type": "code",
   "execution_count": null,
   "id": "7873d3e2",
   "metadata": {},
   "outputs": [],
   "source": [
    "text_1 = f\"\"\"\n",
    "Making a cup of tea is easy! \\ \n",
    "First, you need to get some water boiling. \\ \n",
    "While that's happening, grab a cup and put a tea bag in it. \\ \n",
    "Once the water is hot enough, just pour it over the tea bag. \\ \n",
    "Let it sit for a bit so the tea can steep. After a few minutes, \\ \n",
    "take out the tea bag. If you like, you can add some sugar or milk to taste. \\ \n",
    "And that's it! You've got yourself a delicious cup of tea to enjoy.\n",
    "\"\"\"\n",
    "prompt = f\"\"\"\n",
    "You will be provided with text delimited by triple quotes. \n",
    "If it contains a sequence of instructions, \\ \n",
    "re-write those instructions in the following format:\n",
    "\n",
    "Step 1 - ...\n",
    "Step 2 - …\n",
    "…\n",
    "Step N - …\n",
    "\n",
    "If the text does not contain a sequence of instructions, \\ \n",
    "then simply write \\\"No steps provided.\\\"\n",
    "\n",
    "\\\"\\\"\\\"{text_1}\\\"\\\"\\\"\n",
    "\"\"\"\n",
    "response = get_completion(prompt)\n",
    "print(\"Completion for Text 1:\")\n",
    "print(response)"
   ]
  },
  {
   "cell_type": "code",
   "execution_count": null,
   "id": "07bfbb73",
   "metadata": {},
   "outputs": [],
   "source": [
    "text_2 = f\"\"\"\n",
    "The sun is shining brightly today, and the birds are \\\n",
    "singing. It's a beautiful day to go for a \\ \n",
    "walk in the park. The flowers are blooming, and the \\ \n",
    "trees are swaying gently in the breeze. People \\ \n",
    "are out and about, enjoying the lovely weather. \\ \n",
    "Some are having picnics, while others are playing \\ \n",
    "games or simply relaxing on the grass. It's a \\ \n",
    "perfect day to spend time outdoors and appreciate the \\ \n",
    "beauty of nature.\n",
    "\"\"\"\n",
    "prompt = f\"\"\"\n",
    "You will be provided with text delimited by triple quotes. \n",
    "If it contains a sequence of instructions, \\ \n",
    "re-write those instructions in the following format:\n",
    "\n",
    "Step 1 - ...\n",
    "Step 2 - …\n",
    "…\n",
    "Step N - …\n",
    "\n",
    "If the text does not contain a sequence of instructions, \\ \n",
    "then simply write \\\"No steps provided.\\\"\n",
    "\n",
    "\\\"\\\"\\\"{text_2}\\\"\\\"\\\"\n",
    "\"\"\"\n",
    "response = get_completion(prompt)\n",
    "print(\"Completion for Text 2:\")\n",
    "print(response)"
   ]
  },
  {
   "cell_type": "markdown",
   "id": "de9a0d9d",
   "metadata": {},
   "source": [
    "![Prompt escape example](prompt-escaped.PNG)"
   ]
  },
  {
   "cell_type": "code",
   "execution_count": null,
   "id": "88a120b4",
   "metadata": {},
   "outputs": [],
   "source": [
    "prompt = f\"\"\"\n",
    "Which color is a pineapple? Choose from the options below: \\\n",
    "a) blue\n",
    "b) pink\n",
    "c) white\n",
    "\"\"\"\n",
    "response = get_completion(prompt)\n",
    "print(response) # d) yellow"
   ]
  },
  {
   "cell_type": "code",
   "execution_count": null,
   "id": "5eb54cda",
   "metadata": {},
   "outputs": [],
   "source": [
    "prompt = f\"\"\"\n",
    "Which color is a pineapple? Choose from the options below: \\\n",
    "a) blue\n",
    "b) pink\n",
    "c) white\n",
    "d) none of the above\n",
    "\"\"\"\n",
    "response = get_completion(prompt)\n",
    "print(response) "
   ]
  },
  {
   "cell_type": "markdown",
   "id": "02166113",
   "metadata": {},
   "source": [
    "### Few-shot prompting"
   ]
  },
  {
   "cell_type": "markdown",
   "id": "24891ed5",
   "metadata": {},
   "source": [
    "Give successful examples of completing tasks.\n",
    "Then ask the model to perform the task"
   ]
  },
  {
   "cell_type": "code",
   "execution_count": null,
   "id": "79854f00",
   "metadata": {},
   "outputs": [],
   "source": [
    "prompt = f\"\"\"\n",
    "Your task is to answer in a consistent style.\n",
    "\n",
    "<child>: Teach me about patience.\n",
    "\n",
    "<grandparent>: The river that carves the deepest \\ \n",
    "valley flows from a modest spring; the \\ \n",
    "grandest symphony originates from a single note; \\ \n",
    "the most intricate tapestry begins with a solitary thread.\n",
    "\n",
    "<child>: Teach me about resilience.\n",
    "\"\"\"\n",
    "response = get_completion(prompt)\n",
    "print(response)"
   ]
  },
  {
   "cell_type": "code",
   "execution_count": null,
   "id": "ba2bc206",
   "metadata": {},
   "outputs": [],
   "source": [
    "prompt = f\"\"\"\n",
    "Bạn là nhà văn sáng tác văn theo một văn phong thống nhất.\n",
    "\n",
    "<độc giả>: Sáng tác về sông Hương.\n",
    "\n",
    "<nhà văn>: Trong những dòng sông đẹp ở các nước mà tôi thường nghe nói đến, \\ \n",
    "hình như chỉ sông Hương là thuộc về một thành phố duy nhất. \\ \n",
    "Trước khi về đến vùng châu thổ êm đềm, nó đã là một bản trường ca của rừng già, rầm rộ \\ \n",
    "giữa bóng cây đại ngàn, mãnh liệt qua những ghềnh thác, cuộn xoáy như cơn lốc vào \\ \n",
    "những đáy vực bí ẩn, và cũng có lúc nó trở nên dịu dàng và say đắm giữa những dặm dài \\ \n",
    "chói lọi màu đỏ của hoa đỗ quyên rừng. Giữa lòng Trường Sơn, sông Hương đã sống \\ \n",
    "một nửa cuộc đời của mình như một cô gái Digan phóng khoáng và man dại. \\ \n",
    "Rừng già đã hun đúc cho nó một bản lĩnh gan dạ, một tâm hồn tự do và trong sáng.\\ \n",
    "Nhưng chính rừng già nơi đây, với cấu trúc đặc biệt có thể lý giải được về mặt khoa học, \\ \n",
    "đã chế ngự sức mạnh bản năng ở người con gái của mình để khi ra khỏi rừng,\\ \n",
    "sông Hương nhanh chóng mang một sắc đẹp dịu dàng và trí tuệ,\\ \n",
    "trở thành người mẹ phù sa của một vùng văn hóa xứ sở. \\ \n",
    "Nếu chỉ mải mê nhìn ngắm khuôn mặt kinh thành của nó, tôi nghĩ rằng người ta sẽ \\ \n",
    "không hiểu một cách đầy đủ bản chất của sông Hương với cuộc hành trình gian \\ \n",
    "truân mà nó đã vượt qua, không hiểu thấu phần tâm hồn sâu thẳm của nó mà dòng \\ \n",
    "sông hình như không muốn bộc lộ, đã đóng kín lại ở cửa rừng và ném chìa khóa \\ \n",
    "trong những hang đá dưới chân núi Kim Phụng.\n",
    "\n",
    "<độc giả>: Sáng tác về sông Sài Gòn.\n",
    "\"\"\"\n",
    "response = get_completion(prompt)\n",
    "print(response)"
   ]
  },
  {
   "cell_type": "markdown",
   "id": "0aba1d8c",
   "metadata": {},
   "source": [
    "### Specify the steps required to complete a (complex) task"
   ]
  },
  {
   "cell_type": "markdown",
   "id": "080c3a01",
   "metadata": {},
   "source": [
    "For tasks that are complex to do in a short amount of time, the model may make up a guess.\n",
    "\n",
    "-> Instruct the model to think longer about a problem"
   ]
  },
  {
   "cell_type": "code",
   "execution_count": null,
   "id": "bda2514c",
   "metadata": {},
   "outputs": [],
   "source": [
    "text = f\"\"\"\n",
    "In a charming village, siblings Jack and Jill set out on \\ \n",
    "a quest to fetch water from a hilltop \\ \n",
    "well. As they climbed, singing joyfully, misfortune \\ \n",
    "struck—Jack tripped on a stone and tumbled \\ \n",
    "down the hill, with Jill following suit. \\ \n",
    "Though slightly battered, the pair returned home to \\ \n",
    "comforting embraces. Despite the mishap, \\ \n",
    "their adventurous spirits remained undimmed, and they \\ \n",
    "continued exploring with delight.\n",
    "\"\"\"\n",
    "# example 1\n",
    "prompt_1 = f\"\"\"\n",
    "Output a json object that contains the following \\\n",
    "keys: french_summary, num_names where french_summary is \\ \n",
    "a summary in French the following text delimited by triple \\ \n",
    "backticks with 1 sentence and the num_names is a number of \\ \n",
    "name in French summary.\n",
    "\n",
    "\n",
    "Text:\n",
    "```{text}```\n",
    "\"\"\"\n",
    "response = get_completion(prompt_1)\n",
    "print(\"Completion for prompt 1:\")\n",
    "print(response)"
   ]
  },
  {
   "cell_type": "markdown",
   "id": "9930eace",
   "metadata": {},
   "source": [
    "Improved approach"
   ]
  },
  {
   "cell_type": "code",
   "execution_count": null,
   "id": "6286acf5",
   "metadata": {},
   "outputs": [],
   "source": [
    "text = f\"\"\"\n",
    "In a charming village, siblings Jack and Jill set out on \\ \n",
    "a quest to fetch water from a hilltop \\ \n",
    "well. As they climbed, singing joyfully, misfortune \\ \n",
    "struck—Jack tripped on a stone and tumbled \\ \n",
    "down the hill, with Jill following suit. \\ \n",
    "Though slightly battered, the pair returned home to \\ \n",
    "comforting embraces. Despite the mishap, \\ \n",
    "their adventurous spirits remained undimmed, and they \\ \n",
    "continued exploring with delight.\n",
    "\"\"\"\n",
    "# example 1\n",
    "prompt_1 = f\"\"\"\n",
    "Perform the following actions: \n",
    "1 - Summarize the following text delimited by triple \\\n",
    "backticks with 1 sentence.\n",
    "2 - Translate the summary into French.\n",
    "3 - List each name in the French summary.\n",
    "4 - Output a json object that contains the following \\\n",
    "keys: french_summary, num_names.\n",
    "\n",
    "Separate your answers with line breaks.\n",
    "\n",
    "Text:\n",
    "```{text}```\n",
    "\"\"\"\n",
    "response = get_completion(prompt_1)\n",
    "print(\"Completion for prompt 1:\")\n",
    "print(response)"
   ]
  },
  {
   "cell_type": "markdown",
   "id": "eb22fb76",
   "metadata": {},
   "source": [
    "Format the output"
   ]
  },
  {
   "cell_type": "code",
   "execution_count": null,
   "id": "796d55b6",
   "metadata": {},
   "outputs": [],
   "source": [
    "prompt_2 = f\"\"\"\n",
    "Your task is to perform the following actions:\n",
    "1 - Summarizize the following text delimited by <> with one sentence.\n",
    "2 - Translate the summay into French\n",
    "3 - List each name in the French summary.\n",
    "4 - Output a json object that contains the following keys: french_summary, num_names.\n",
    "\n",
    "Use the following format:\n",
    "Text: <text to summary>\n",
    "Translation: <summary translation>\n",
    "Names: <list of names in Italian summary>\n",
    "Output JSON: <json with summary and num_names>\n",
    "\n",
    "Text: <{text}>\n",
    "\"\"\"\n",
    "response = get_completion(prompt_2)\n",
    "print(\"\\nCompletion for prompt 2:\")\n",
    "print(response)"
   ]
  },
  {
   "cell_type": "markdown",
   "id": "aabaa66b",
   "metadata": {},
   "source": [
    "### Instruct the model to work out its own solution before rushing to a conclusion"
   ]
  },
  {
   "cell_type": "code",
   "execution_count": null,
   "id": "05f263de",
   "metadata": {},
   "outputs": [],
   "source": [
    "prompt = f\"\"\"\n",
    "Determine if the student's solution is correct or not.\n",
    "\n",
    "Question:\n",
    "I'm building a solar power installation and I need \\\n",
    " help working out the financials. \n",
    "- Land costs $100 / square foot\n",
    "- I can buy solar panels for $250 / square foot\n",
    "- I negotiated a contract for maintenance that will cost \\ \n",
    "me a flat $100k per year, and an additional $10 / square \\\n",
    "foot\n",
    "What is the total cost for the first year of operations \n",
    "as a function of the number of square feet.\n",
    "\n",
    "Student's Solution:\n",
    "Let x be the size of the installation in square feet.\n",
    "Costs:\n",
    "1. Land cost: 100x\n",
    "2. Solar panel cost: 250x\n",
    "3. Maintenance cost: 100,000 + 100x\n",
    "Total cost: 100x + 250x + 100,000 + 100x = 450x + 100,000\n",
    "\"\"\"\n",
    "response = get_completion(prompt)\n",
    "print(response)"
   ]
  },
  {
   "cell_type": "markdown",
   "id": "12668998",
   "metadata": {},
   "source": [
    "Fix the prompt"
   ]
  },
  {
   "cell_type": "code",
   "execution_count": 5,
   "id": "fe9e5523",
   "metadata": {},
   "outputs": [
    {
     "name": "stdout",
     "output_type": "stream",
     "text": [
      "To calculate the total cost for the first year of operations, we need to add up the costs of land, solar panels, and maintenance.\n",
      "\n",
      "Let x be the size of the installation in square feet.\n",
      "\n",
      "1. Land cost: $100 / square foot\n",
      "The cost of land is 100 * x = 100x.\n",
      "\n",
      "2. Solar panel cost: $250 / square foot\n",
      "The cost of solar panels is 250 * x = 250x.\n",
      "\n",
      "3. Maintenance cost: $100,000 + $10 / square foot\n",
      "The maintenance cost is a flat $100,000 per year, plus $10 per square foot. So the maintenance cost is 100,000 + 10 * x = 100,000 + 10x.\n",
      "\n",
      "Total cost: 100x + 250x + 100,000 + 10x = 360x + 100,000.\n",
      "\n",
      "Is the student's solution the same as the actual solution just calculated:\n",
      "No.\n",
      "\n",
      "Student grade:\n",
      "Incorrect.\n"
     ]
    }
   ],
   "source": [
    "prompt = f\"\"\"\n",
    "Your task is to determine if the student's solution \\ \n",
    "is correct or not.\n",
    "To solve the problem do the following:\n",
    "- First, work out your own solution to the problem.\n",
    "- Then compare your solution to the student's solution \\ \n",
    "and evaluate if the student's solution in correct or not.\n",
    "Don't decide if the student's solution is correct until you have done the problem yourself.\n",
    "\n",
    "Use the following format:\n",
    "Question:\n",
    "```\n",
    "question here\n",
    "```\n",
    "Student's solution:\n",
    "```\n",
    "student's solution here\n",
    "```\n",
    "Actual solution:\n",
    "```\n",
    "steps to work out the solution and your solution here\n",
    "```\n",
    "Is the student's solution the same as the actual solution \\\n",
    "just calculated:\n",
    "```\n",
    "yes or no\n",
    "```\n",
    "Student grade:\n",
    "```\n",
    "correct or incorrect\n",
    "```\n",
    "\n",
    "Question:\n",
    "```\n",
    "I'm building a solar power installation and I need help \\\n",
    "working out the financials. \n",
    "- Land costs $100 / square foot\n",
    "- I can buy solar panels for $250 / square foot\n",
    "- I negotiated a contract for maintenance that will cost \\\n",
    "me a flat $100k per year, and an additional $10 / square \\\n",
    "foot\n",
    "What is the total cost for the first year of operations \\\n",
    "as a function of the number of square feet.\n",
    "``` \n",
    "Student's solution:\n",
    "```\n",
    "Let x be the size of the installation in square feet.\n",
    "Costs:\n",
    "1. Land cost: 100x\n",
    "2. Solar panel cost: 250x\n",
    "3. Maintenance cost: 100,000 + 100x\n",
    "Total cost: 100x + 250x + 100,000 + 100x = 450x + 100,000\n",
    "```\n",
    "Actual solution:\n",
    "\"\"\"\n",
    "response = get_completion(prompt)\n",
    "print(response)"
   ]
  },
  {
   "cell_type": "code",
   "execution_count": null,
   "id": "9f1fa749-3f42-4375-875f-65327d504328",
   "metadata": {},
   "outputs": [],
   "source": []
  }
 ],
 "metadata": {
  "kernelspec": {
   "display_name": "Python 3 (ipykernel)",
   "language": "python",
   "name": "python3"
  },
  "language_info": {
   "codemirror_mode": {
    "name": "ipython",
    "version": 3
   },
   "file_extension": ".py",
   "mimetype": "text/x-python",
   "name": "python",
   "nbconvert_exporter": "python",
   "pygments_lexer": "ipython3",
   "version": "3.10.12"
  }
 },
 "nbformat": 4,
 "nbformat_minor": 5
}
